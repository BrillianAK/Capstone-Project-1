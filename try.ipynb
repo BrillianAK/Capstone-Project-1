{
 "cells": [
  {
   "cell_type": "code",
   "execution_count": 14,
   "metadata": {},
   "outputs": [
    {
     "name": "stdout",
     "output_type": "stream",
     "text": [
      "Admin\n",
      "Robert\n",
      "Putri\n"
     ]
    }
   ],
   "source": [
    "user = {\n",
    "    'Admin': [['Admin', 'Admin123']],\n",
    "    'Doctor': [['Robert', 'Robert123'], ['Ginting', 'Ginting123']],\n",
    "    'Patient': [['Putri', 'Putri123']],\n",
    "}\n",
    "\n",
    "username = 'Robert'\n",
    "\n",
    "for role_users in user.values():\n",
    "    for user_info in role_users:\n",
    "        print(user_info[0])\n",
    "        if user_info[0] == username:\n",
    "            break"
   ]
  },
  {
   "cell_type": "code",
   "execution_count": 16,
   "metadata": {},
   "outputs": [
    {
     "name": "stdout",
     "output_type": "stream",
     "text": [
      "ID    Username   Appointment     Doctor     Diagnosa        Medicine                      \n",
      "----------------------------------------------------------------------------------------------------\n",
      "1     Putri      14:00 - 15:00   Robert     Sakit perut     paracetamol: 1, betadine: 1\n",
      "2     Putra      12:00 - 13:00   Ginting 12 N/A             N/A\n"
     ]
    }
   ],
   "source": [
    "data = {\n",
    "    1: {\n",
    "        'Username' : 'Putri',\n",
    "        'Appointment': '14:00 - 15:00',\n",
    "        'Doctor': 'Robert',\n",
    "        'Diagnosa': 'Sakit perut',\n",
    "        'Medicine': {'paracetamol': 1, 'betadine': 1},\n",
    "    }, \n",
    "    2: {\n",
    "        'Username' : 'Putra',\n",
    "        'Appointment': '12:00 - 13:00',\n",
    "        'Doctor': 'Ginting 1232131',\n",
    "        'Diagnosa': None,\n",
    "        'Medicine': None,\n",
    "    }   \n",
    "}\n",
    "\n",
    "print(f\"{'ID':<5} {'Username':<10} {'Appointment':<15} {'Doctor':<10} {'Diagnosa':<15} {'Medicine':<30}\")\n",
    "print(\"-\" * 100)\n",
    "\n",
    "# Data rows\n",
    "for key, details in data.items():\n",
    "    diagnosa = details['Diagnosa'] if details['Diagnosa'] else \"N/A\"\n",
    "    if details['Medicine']:\n",
    "        medicine = ', '.join([f\"{med}: {qty}\" for med, qty in details['Medicine'].items()])\n",
    "    else:\n",
    "        medicine = \"N/A\"\n",
    "    \n",
    "    # Print each row in formatted columns\n",
    "    print(f\"{str(key)[:5]:<5} {details['Username'][:10]:<10} {details['Appointment'][:15]:<15} {details['Doctor'][:10]:<10} {diagnosa[:15]:<15} {medicine[:30]:<30}\")"
   ]
  }
 ],
 "metadata": {
  "kernelspec": {
   "display_name": "Python 3",
   "language": "python",
   "name": "python3"
  },
  "language_info": {
   "codemirror_mode": {
    "name": "ipython",
    "version": 3
   },
   "file_extension": ".py",
   "mimetype": "text/x-python",
   "name": "python",
   "nbconvert_exporter": "python",
   "pygments_lexer": "ipython3",
   "version": "3.12.2"
  }
 },
 "nbformat": 4,
 "nbformat_minor": 2
}
